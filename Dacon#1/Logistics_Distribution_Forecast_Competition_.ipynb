{
  "cells": [
    {
      "cell_type": "markdown",
      "metadata": {
        "id": "koWkGL5thFwO"
      },
      "source": [
        "# 물류 유통량 예측 경진대회\n",
        "\n",
        "대회 사이트 : https://dacon.io/competitions/official/235867/overview/description"
      ]
    },
    {
      "cell_type": "markdown",
      "metadata": {
        "id": "jGorLqYghIi-"
      },
      "source": [
        "# 데이터 불러오기"
      ]
    },
    {
      "cell_type": "code",
      "execution_count": null,
      "metadata": {
        "id": "5JKvdsQ9hFiC"
      },
      "outputs": [],
      "source": [
        "import numpy as np\n",
        "import pandas as pd\n",
        "%matplotlib inline\n",
        "import matplotlib.pyplot as plt\n",
        "import seaborn as sns\n",
        "from sklearn.model_selection import train_test_split\n",
        "from sklearn.linear_model import LinearRegression\n",
        "from sklearn.tree import DecisionTreeRegressor"
      ]
    },
    {
      "cell_type": "code",
      "execution_count": null,
      "metadata": {
        "id": "b5SSk7M5fDpN"
      },
      "outputs": [],
      "source": [
        "# 경고 메시지 숨기기\n",
        "import warnings\n",
        "warnings.filterwarnings(action='ignore')"
      ]
    },
    {
      "cell_type": "code",
      "execution_count": null,
      "metadata": {
        "id": "71SqLoemIkqj"
      },
      "outputs": [],
      "source": [
        "df_train = pd.read_csv(\"/content/drive/MyDrive/DACON/물류 유통량 예측 경진대회/train.csv\")\n",
        "df_test = pd.read_csv(\"/content/drive/MyDrive/DACON/물류 유통량 예측 경진대회/test.csv\")"
      ]
    },
    {
      "cell_type": "markdown",
      "metadata": {
        "id": "oDWqDB67Ioht"
      },
      "source": [
        "# 데이터 전처리"
      ]
    },
    {
      "cell_type": "markdown",
      "metadata": {
        "id": "SjK8-OgkIqGe"
      },
      "source": [
        "### train_df.csv\n",
        "\n",
        "* index : 인덱스\n",
        "* 송하인_격자공간고유번호\n",
        "* 수하인 격자공간고유번호\n",
        "* 택배_카테고리\n",
        "* 운송장_건수\n",
        "\n",
        "### test_df.csv\n",
        "\n",
        "* index : 인덱스\n",
        "* 송하인_격자공간고유번호\n",
        "* 수하인 격자공간고유번호\n",
        "* 택배_카테고리\n",
        "\n",
        "### sample_submission.csv\n",
        "\n",
        "* index : 인덱스\n",
        "* 운송장_건수"
      ]
    },
    {
      "cell_type": "code",
      "execution_count": null,
      "metadata": {
        "id": "094M65SbY_WO"
      },
      "outputs": [],
      "source": [
        "df_train['송하인_grid']=df_train['송하인_격자공간고유번호'].astype(str).apply(lambda x: x[:3]).astype(int)\n",
        "df_train['수하인_grid']=df_train['수하인_격자공간고유번호'].astype(str).apply(lambda x: x[:3]).astype(int)\n",
        "df_test['송하인_grid']=df_test['송하인_격자공간고유번호'].astype(str).apply(lambda x: x[:3]).astype(int)\n",
        "df_test['수하인_grid']=df_test['수하인_격자공간고유번호'].astype(str).apply(lambda x: x[:3]).astype(int)"
      ]
    },
    {
      "cell_type": "code",
      "execution_count": null,
      "metadata": {
        "id": "a712JthRZBny"
      },
      "outputs": [],
      "source": [
        "df_train['송수_grid']=df_train['송하인_grid'].astype(str).str.cat(df_train['수하인_grid'].astype(str), sep=' - ')\n",
        "df_test['송수_grid']=df_test['송하인_grid'].astype(str).str.cat(df_test['수하인_grid'].astype(str), sep=' - ')"
      ]
    },
    {
      "cell_type": "code",
      "execution_count": null,
      "metadata": {
        "colab": {
          "base_uri": "https://localhost:8080/",
          "height": 254
        },
        "id": "KbdPrv3WZC_C",
        "outputId": "39ce220f-a9c5-4cc3-e3d6-52d920b32a83"
      },
      "outputs": [
        {
          "data": {
            "text/html": [
              "\n",
              "  <div id=\"df-2dbc99cb-79c1-4b04-aeee-da2208c127e7\">\n",
              "    <div class=\"colab-df-container\">\n",
              "      <div>\n",
              "<style scoped>\n",
              "    .dataframe tbody tr th:only-of-type {\n",
              "        vertical-align: middle;\n",
              "    }\n",
              "\n",
              "    .dataframe tbody tr th {\n",
              "        vertical-align: top;\n",
              "    }\n",
              "\n",
              "    .dataframe thead th {\n",
              "        text-align: right;\n",
              "    }\n",
              "</style>\n",
              "<table border=\"1\" class=\"dataframe\">\n",
              "  <thead>\n",
              "    <tr style=\"text-align: right;\">\n",
              "      <th></th>\n",
              "      <th>index</th>\n",
              "      <th>송하인_격자공간고유번호</th>\n",
              "      <th>수하인_격자공간고유번호</th>\n",
              "      <th>물품_카테고리</th>\n",
              "      <th>운송장_건수</th>\n",
              "      <th>송하인_grid</th>\n",
              "      <th>수하인_grid</th>\n",
              "      <th>송수_grid</th>\n",
              "    </tr>\n",
              "  </thead>\n",
              "  <tbody>\n",
              "    <tr>\n",
              "      <th>14316</th>\n",
              "      <td>14316</td>\n",
              "      <td>4223000062013100</td>\n",
              "      <td>5011000435058300</td>\n",
              "      <td>수산</td>\n",
              "      <td>3</td>\n",
              "      <td>422</td>\n",
              "      <td>501</td>\n",
              "      <td>422 - 501</td>\n",
              "    </tr>\n",
              "    <tr>\n",
              "      <th>15188</th>\n",
              "      <td>15188</td>\n",
              "      <td>3120000085064100</td>\n",
              "      <td>5011000265100400</td>\n",
              "      <td>기타식품</td>\n",
              "      <td>3</td>\n",
              "      <td>312</td>\n",
              "      <td>501</td>\n",
              "      <td>312 - 501</td>\n",
              "    </tr>\n",
              "    <tr>\n",
              "      <th>20364</th>\n",
              "      <td>20364</td>\n",
              "      <td>4223000062013100</td>\n",
              "      <td>5011000314094200</td>\n",
              "      <td>수산</td>\n",
              "      <td>5</td>\n",
              "      <td>422</td>\n",
              "      <td>501</td>\n",
              "      <td>422 - 501</td>\n",
              "    </tr>\n",
              "    <tr>\n",
              "      <th>20806</th>\n",
              "      <td>20806</td>\n",
              "      <td>4221000028003400</td>\n",
              "      <td>5013000926057200</td>\n",
              "      <td>기타패션의류</td>\n",
              "      <td>3</td>\n",
              "      <td>422</td>\n",
              "      <td>501</td>\n",
              "      <td>422 - 501</td>\n",
              "    </tr>\n",
              "  </tbody>\n",
              "</table>\n",
              "</div>\n",
              "      <button class=\"colab-df-convert\" onclick=\"convertToInteractive('df-2dbc99cb-79c1-4b04-aeee-da2208c127e7')\"\n",
              "              title=\"Convert this dataframe to an interactive table.\"\n",
              "              style=\"display:none;\">\n",
              "        \n",
              "  <svg xmlns=\"http://www.w3.org/2000/svg\" height=\"24px\"viewBox=\"0 0 24 24\"\n",
              "       width=\"24px\">\n",
              "    <path d=\"M0 0h24v24H0V0z\" fill=\"none\"/>\n",
              "    <path d=\"M18.56 5.44l.94 2.06.94-2.06 2.06-.94-2.06-.94-.94-2.06-.94 2.06-2.06.94zm-11 1L8.5 8.5l.94-2.06 2.06-.94-2.06-.94L8.5 2.5l-.94 2.06-2.06.94zm10 10l.94 2.06.94-2.06 2.06-.94-2.06-.94-.94-2.06-.94 2.06-2.06.94z\"/><path d=\"M17.41 7.96l-1.37-1.37c-.4-.4-.92-.59-1.43-.59-.52 0-1.04.2-1.43.59L10.3 9.45l-7.72 7.72c-.78.78-.78 2.05 0 2.83L4 21.41c.39.39.9.59 1.41.59.51 0 1.02-.2 1.41-.59l7.78-7.78 2.81-2.81c.8-.78.8-2.07 0-2.86zM5.41 20L4 18.59l7.72-7.72 1.47 1.35L5.41 20z\"/>\n",
              "  </svg>\n",
              "      </button>\n",
              "      \n",
              "  <style>\n",
              "    .colab-df-container {\n",
              "      display:flex;\n",
              "      flex-wrap:wrap;\n",
              "      gap: 12px;\n",
              "    }\n",
              "\n",
              "    .colab-df-convert {\n",
              "      background-color: #E8F0FE;\n",
              "      border: none;\n",
              "      border-radius: 50%;\n",
              "      cursor: pointer;\n",
              "      display: none;\n",
              "      fill: #1967D2;\n",
              "      height: 32px;\n",
              "      padding: 0 0 0 0;\n",
              "      width: 32px;\n",
              "    }\n",
              "\n",
              "    .colab-df-convert:hover {\n",
              "      background-color: #E2EBFA;\n",
              "      box-shadow: 0px 1px 2px rgba(60, 64, 67, 0.3), 0px 1px 3px 1px rgba(60, 64, 67, 0.15);\n",
              "      fill: #174EA6;\n",
              "    }\n",
              "\n",
              "    [theme=dark] .colab-df-convert {\n",
              "      background-color: #3B4455;\n",
              "      fill: #D2E3FC;\n",
              "    }\n",
              "\n",
              "    [theme=dark] .colab-df-convert:hover {\n",
              "      background-color: #434B5C;\n",
              "      box-shadow: 0px 1px 3px 1px rgba(0, 0, 0, 0.15);\n",
              "      filter: drop-shadow(0px 1px 2px rgba(0, 0, 0, 0.3));\n",
              "      fill: #FFFFFF;\n",
              "    }\n",
              "  </style>\n",
              "\n",
              "      <script>\n",
              "        const buttonEl =\n",
              "          document.querySelector('#df-2dbc99cb-79c1-4b04-aeee-da2208c127e7 button.colab-df-convert');\n",
              "        buttonEl.style.display =\n",
              "          google.colab.kernel.accessAllowed ? 'block' : 'none';\n",
              "\n",
              "        async function convertToInteractive(key) {\n",
              "          const element = document.querySelector('#df-2dbc99cb-79c1-4b04-aeee-da2208c127e7');\n",
              "          const dataTable =\n",
              "            await google.colab.kernel.invokeFunction('convertToInteractive',\n",
              "                                                     [key], {});\n",
              "          if (!dataTable) return;\n",
              "\n",
              "          const docLinkHtml = 'Like what you see? Visit the ' +\n",
              "            '<a target=\"_blank\" href=https://colab.research.google.com/notebooks/data_table.ipynb>data table notebook</a>'\n",
              "            + ' to learn more about interactive tables.';\n",
              "          element.innerHTML = '';\n",
              "          dataTable['output_type'] = 'display_data';\n",
              "          await google.colab.output.renderOutput(dataTable, element);\n",
              "          const docLink = document.createElement('div');\n",
              "          docLink.innerHTML = docLinkHtml;\n",
              "          element.appendChild(docLink);\n",
              "        }\n",
              "      </script>\n",
              "    </div>\n",
              "  </div>\n",
              "  "
            ],
            "text/plain": [
              "       index      송하인_격자공간고유번호      수하인_격자공간고유번호 물품_카테고리  운송장_건수  송하인_grid  \\\n",
              "14316  14316  4223000062013100  5011000435058300      수산       3       422   \n",
              "15188  15188  3120000085064100  5011000265100400    기타식품       3       312   \n",
              "20364  20364  4223000062013100  5011000314094200      수산       5       422   \n",
              "20806  20806  4221000028003400  5013000926057200  기타패션의류       3       422   \n",
              "\n",
              "       수하인_grid    송수_grid  \n",
              "14316       501  422 - 501  \n",
              "15188       501  312 - 501  \n",
              "20364       501  422 - 501  \n",
              "20806       501  422 - 501  "
            ]
          },
          "execution_count": 21,
          "metadata": {},
          "output_type": "execute_result"
        }
      ],
      "source": [
        "df_train[~df_train['송수_grid'].isin(df_test['송수_grid'].unique())].head()"
      ]
    },
    {
      "cell_type": "code",
      "execution_count": null,
      "metadata": {
        "colab": {
          "base_uri": "https://localhost:8080/",
          "height": 49
        },
        "id": "e33RmsyzZE1K",
        "outputId": "93dbc489-3cd7-4891-8f81-fc54df60b024"
      },
      "outputs": [
        {
          "data": {
            "text/html": [
              "\n",
              "  <div id=\"df-60ed2d13-36d5-419c-aaed-27682996c101\">\n",
              "    <div class=\"colab-df-container\">\n",
              "      <div>\n",
              "<style scoped>\n",
              "    .dataframe tbody tr th:only-of-type {\n",
              "        vertical-align: middle;\n",
              "    }\n",
              "\n",
              "    .dataframe tbody tr th {\n",
              "        vertical-align: top;\n",
              "    }\n",
              "\n",
              "    .dataframe thead th {\n",
              "        text-align: right;\n",
              "    }\n",
              "</style>\n",
              "<table border=\"1\" class=\"dataframe\">\n",
              "  <thead>\n",
              "    <tr style=\"text-align: right;\">\n",
              "      <th></th>\n",
              "      <th>index</th>\n",
              "      <th>송하인_격자공간고유번호</th>\n",
              "      <th>수하인_격자공간고유번호</th>\n",
              "      <th>물품_카테고리</th>\n",
              "      <th>송하인_grid</th>\n",
              "      <th>수하인_grid</th>\n",
              "      <th>송수_grid</th>\n",
              "    </tr>\n",
              "  </thead>\n",
              "  <tbody>\n",
              "  </tbody>\n",
              "</table>\n",
              "</div>\n",
              "      <button class=\"colab-df-convert\" onclick=\"convertToInteractive('df-60ed2d13-36d5-419c-aaed-27682996c101')\"\n",
              "              title=\"Convert this dataframe to an interactive table.\"\n",
              "              style=\"display:none;\">\n",
              "        \n",
              "  <svg xmlns=\"http://www.w3.org/2000/svg\" height=\"24px\"viewBox=\"0 0 24 24\"\n",
              "       width=\"24px\">\n",
              "    <path d=\"M0 0h24v24H0V0z\" fill=\"none\"/>\n",
              "    <path d=\"M18.56 5.44l.94 2.06.94-2.06 2.06-.94-2.06-.94-.94-2.06-.94 2.06-2.06.94zm-11 1L8.5 8.5l.94-2.06 2.06-.94-2.06-.94L8.5 2.5l-.94 2.06-2.06.94zm10 10l.94 2.06.94-2.06 2.06-.94-2.06-.94-.94-2.06-.94 2.06-2.06.94z\"/><path d=\"M17.41 7.96l-1.37-1.37c-.4-.4-.92-.59-1.43-.59-.52 0-1.04.2-1.43.59L10.3 9.45l-7.72 7.72c-.78.78-.78 2.05 0 2.83L4 21.41c.39.39.9.59 1.41.59.51 0 1.02-.2 1.41-.59l7.78-7.78 2.81-2.81c.8-.78.8-2.07 0-2.86zM5.41 20L4 18.59l7.72-7.72 1.47 1.35L5.41 20z\"/>\n",
              "  </svg>\n",
              "      </button>\n",
              "      \n",
              "  <style>\n",
              "    .colab-df-container {\n",
              "      display:flex;\n",
              "      flex-wrap:wrap;\n",
              "      gap: 12px;\n",
              "    }\n",
              "\n",
              "    .colab-df-convert {\n",
              "      background-color: #E8F0FE;\n",
              "      border: none;\n",
              "      border-radius: 50%;\n",
              "      cursor: pointer;\n",
              "      display: none;\n",
              "      fill: #1967D2;\n",
              "      height: 32px;\n",
              "      padding: 0 0 0 0;\n",
              "      width: 32px;\n",
              "    }\n",
              "\n",
              "    .colab-df-convert:hover {\n",
              "      background-color: #E2EBFA;\n",
              "      box-shadow: 0px 1px 2px rgba(60, 64, 67, 0.3), 0px 1px 3px 1px rgba(60, 64, 67, 0.15);\n",
              "      fill: #174EA6;\n",
              "    }\n",
              "\n",
              "    [theme=dark] .colab-df-convert {\n",
              "      background-color: #3B4455;\n",
              "      fill: #D2E3FC;\n",
              "    }\n",
              "\n",
              "    [theme=dark] .colab-df-convert:hover {\n",
              "      background-color: #434B5C;\n",
              "      box-shadow: 0px 1px 3px 1px rgba(0, 0, 0, 0.15);\n",
              "      filter: drop-shadow(0px 1px 2px rgba(0, 0, 0, 0.3));\n",
              "      fill: #FFFFFF;\n",
              "    }\n",
              "  </style>\n",
              "\n",
              "      <script>\n",
              "        const buttonEl =\n",
              "          document.querySelector('#df-60ed2d13-36d5-419c-aaed-27682996c101 button.colab-df-convert');\n",
              "        buttonEl.style.display =\n",
              "          google.colab.kernel.accessAllowed ? 'block' : 'none';\n",
              "\n",
              "        async function convertToInteractive(key) {\n",
              "          const element = document.querySelector('#df-60ed2d13-36d5-419c-aaed-27682996c101');\n",
              "          const dataTable =\n",
              "            await google.colab.kernel.invokeFunction('convertToInteractive',\n",
              "                                                     [key], {});\n",
              "          if (!dataTable) return;\n",
              "\n",
              "          const docLinkHtml = 'Like what you see? Visit the ' +\n",
              "            '<a target=\"_blank\" href=https://colab.research.google.com/notebooks/data_table.ipynb>data table notebook</a>'\n",
              "            + ' to learn more about interactive tables.';\n",
              "          element.innerHTML = '';\n",
              "          dataTable['output_type'] = 'display_data';\n",
              "          await google.colab.output.renderOutput(dataTable, element);\n",
              "          const docLink = document.createElement('div');\n",
              "          docLink.innerHTML = docLinkHtml;\n",
              "          element.appendChild(docLink);\n",
              "        }\n",
              "      </script>\n",
              "    </div>\n",
              "  </div>\n",
              "  "
            ],
            "text/plain": [
              "Empty DataFrame\n",
              "Columns: [index, 송하인_격자공간고유번호, 수하인_격자공간고유번호, 물품_카테고리, 송하인_grid, 수하인_grid, 송수_grid]\n",
              "Index: []"
            ]
          },
          "execution_count": 22,
          "metadata": {},
          "output_type": "execute_result"
        }
      ],
      "source": [
        "df_test[~df_test['송수_grid'].isin(df_train['송수_grid'].unique())] #즉, test에 대해 학습이 가능한 column을 만들었다."
      ]
    },
    {
      "cell_type": "code",
      "execution_count": null,
      "metadata": {
        "colab": {
          "base_uri": "https://localhost:8080/"
        },
        "id": "R3ut9_QEZGg7",
        "outputId": "5ca147c1-8998-4882-b10e-b80762321845"
      },
      "outputs": [
        {
          "data": {
            "text/plain": [
              "Index(['index', '송하인_격자공간고유번호', '수하인_격자공간고유번호', '물품_카테고리', '운송장_건수',\n",
              "       '송하인_grid', '수하인_grid', '송수_grid'],\n",
              "      dtype='object')"
            ]
          },
          "execution_count": 23,
          "metadata": {},
          "output_type": "execute_result"
        }
      ],
      "source": [
        "df_cat=df_train.copy() #학습용 dataset\n",
        "df_cat.columns"
      ]
    },
    {
      "cell_type": "code",
      "execution_count": null,
      "metadata": {
        "id": "1ZWUY0z7ZI1X"
      },
      "outputs": [],
      "source": [
        "remove_cols=['index', '송하인_격자공간고유번호', '수하인_격자공간고유번호', '송수_grid']\n",
        "df_cat=df_cat.drop(remove_cols, axis=1, inplace=False)\n",
        "df_cat_test=df_test.copy()\n",
        "df_cat_test=df_cat_test.drop(remove_cols, axis=1, inplace=False) #test용 데이터셋"
      ]
    },
    {
      "cell_type": "markdown",
      "metadata": {
        "id": "yebUDbNeMsze"
      },
      "source": [
        "# 모델링"
      ]
    },
    {
      "cell_type": "code",
      "execution_count": null,
      "metadata": {
        "colab": {
          "base_uri": "https://localhost:8080/"
        },
        "id": "Ie4cGJShZtIS",
        "outputId": "543767fb-0810-4fc9-a9d9-66ab90825fb6"
      },
      "outputs": [
        {
          "name": "stdout",
          "output_type": "stream",
          "text": [
            "Looking in indexes: https://pypi.org/simple, https://us-python.pkg.dev/colab-wheels/public/simple/\n",
            "Collecting catboost\n",
            "  Using cached catboost-1.1.1-cp38-none-manylinux1_x86_64.whl (76.6 MB)\n",
            "Requirement already satisfied: matplotlib in /usr/local/lib/python3.8/dist-packages (from catboost) (3.2.2)\n",
            "Requirement already satisfied: six in /usr/local/lib/python3.8/dist-packages (from catboost) (1.15.0)\n",
            "Requirement already satisfied: graphviz in /usr/local/lib/python3.8/dist-packages (from catboost) (0.10.1)\n",
            "Requirement already satisfied: pandas>=0.24.0 in /usr/local/lib/python3.8/dist-packages (from catboost) (1.3.5)\n",
            "Requirement already satisfied: numpy>=1.16.0 in /usr/local/lib/python3.8/dist-packages (from catboost) (1.21.6)\n",
            "Requirement already satisfied: scipy in /usr/local/lib/python3.8/dist-packages (from catboost) (1.7.3)\n",
            "Requirement already satisfied: plotly in /usr/local/lib/python3.8/dist-packages (from catboost) (5.5.0)\n",
            "Requirement already satisfied: python-dateutil>=2.7.3 in /usr/local/lib/python3.8/dist-packages (from pandas>=0.24.0->catboost) (2.8.2)\n",
            "Requirement already satisfied: pytz>=2017.3 in /usr/local/lib/python3.8/dist-packages (from pandas>=0.24.0->catboost) (2022.7)\n",
            "Requirement already satisfied: cycler>=0.10 in /usr/local/lib/python3.8/dist-packages (from matplotlib->catboost) (0.11.0)\n",
            "Requirement already satisfied: kiwisolver>=1.0.1 in /usr/local/lib/python3.8/dist-packages (from matplotlib->catboost) (1.4.4)\n",
            "Requirement already satisfied: pyparsing!=2.0.4,!=2.1.2,!=2.1.6,>=2.0.1 in /usr/local/lib/python3.8/dist-packages (from matplotlib->catboost) (3.0.9)\n",
            "Requirement already satisfied: tenacity>=6.2.0 in /usr/local/lib/python3.8/dist-packages (from plotly->catboost) (8.1.0)\n",
            "Installing collected packages: catboost\n",
            "Successfully installed catboost-1.1.1\n"
          ]
        }
      ],
      "source": [
        "!pip install catboost"
      ]
    },
    {
      "cell_type": "markdown",
      "metadata": {
        "id": "MSA86p0pE4zn"
      },
      "source": [
        "### Catboost 사용\n",
        "![image.png](data:image/png;base64,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)"
      ]
    },
    {
      "cell_type": "markdown",
      "metadata": {
        "id": "116eTzdYIFSf"
      },
      "source": [
        "###XGBoost\n",
        "GBM은 residaul을 줄이는 방향으로 weak learner를 결합해 강력한 성능을 자랑하지만, 해당 train data에 residual을 계속 줄이니까 overfitting 되기 쉽다는 문제점이 있다. 이를 해결하기 위해 XGBoost는 GBM에 regularization term을 추가한 알고리즘이다. 또한 다양한 loss function을 지원해 task에 따른 유연한 튜닝이 가능하다는 장점이 있다."
      ]
    },
    {
      "cell_type": "markdown",
      "metadata": {
        "id": "LX-tYnVvIJOW"
      },
      "source": [
        "### Light GBM\n",
        "부스팅 계열의 대부분 computational cost는 각 단계에서 weak learner인 best tree를 찾는데 쓰인다. 따라서 백만 개의 데이터를 XGBoost로 iteration=1000을 학습시킨 경우, 각 단계에서 tree를 fitting 시키기위해 백만개 데이터를 전부 scan 해야 한다. 해당 과정을 1000번 반복하니 computational cost가 너무 많이 들고 시간이 오래 걸린다. Light GBM은 이러한 높은 cost 문제를 histogram-based/GOSS/EFB 등의 알고리즘을 통해 tree를 구축하기 위한 scan 데이터 양을 줄임으로써 해결한다."
      ]
    },
    {
      "cell_type": "markdown",
      "metadata": {
        "id": "na1eR3TuIRYR"
      },
      "source": [
        "### Catboost"
      ]
    },
    {
      "cell_type": "markdown",
      "metadata": {
        "id": "hoU7xhU3Fp12"
      },
      "source": [
        "장점\n",
        "* 대칭 트리 형성 구조 : 예측 시간을 감소\n",
        "* 비시계열 데이터여도 임의적으로 시계열을 형성해 Boosting을 진행\n",
        "  * boosting이란 : 머신러닝 앙상블 기법 중 하나로 weak learner들을 여러개 결합해서 예측 및 분류 성능을 높이는 알고리즘\n",
        "* 전체 데이터를 N개의 Fold로 나누어서 k-fold CV처럼 진행 - 과적합 문제 해결\n",
        "\n",
        "한계\n",
        "* sparse matrix에는 부적합 : 추천 시스템 xxx"
      ]
    },
    {
      "cell_type": "code",
      "execution_count": null,
      "metadata": {
        "colab": {
          "base_uri": "https://localhost:8080/"
        },
        "id": "DF2o8BWwZKg5",
        "outputId": "d048d899-34e1-4d25-e621-f93004f48941"
      },
      "outputs": [
        {
          "name": "stdout",
          "output_type": "stream",
          "text": [
            "using catboost\n"
          ]
        }
      ],
      "source": [
        "from sklearn.model_selection import StratifiedKFold\n",
        "from catboost import CatBoostRegressor\n",
        "# K Fold 및 기본 데이터 준비 \n",
        "x_train=df_cat.drop(['운송장_건수'], axis=1, inplace=False)\n",
        "y_train=df_cat['운송장_건수']\n",
        "\n",
        "\n",
        "folds = StratifiedKFold(n_splits = 5, shuffle = True, random_state = 511) \n",
        "oof_preds = np.zeros(df_cat.shape[0])\n",
        "\n",
        "# catboost 이용 \n",
        "print(\"using catboost\") \n",
        "sub_preds_catboost = np.zeros(df_cat_test.shape[0])"
      ]
    },
    {
      "attachments": {},
      "cell_type": "markdown",
      "metadata": {},
      "source": [
        "- K fold의 경우 일정한 간격으로 잘라서 사용, 데이터가 섞이지 못함\n",
        "- StratifiedKFold는 속성값의 개수를 동일하게 가져가서 데이터가 한곳으로 몰리는 것을 방지함"
      ]
    },
    {
      "cell_type": "code",
      "execution_count": null,
      "metadata": {
        "colab": {
          "base_uri": "https://localhost:8080/"
        },
        "id": "J8JES3RQZOOc",
        "outputId": "cb8326b3-902c-4cc9-f270-2fd7c0591d5c"
      },
      "outputs": [
        {
          "name": "stderr",
          "output_type": "stream",
          "text": [
            "Warning: Overfitting detector is active, thus evaluation metric is calculated on every iteration. 'metric_period' is ignored for evaluation metric.\n"
          ]
        },
        {
          "name": "stdout",
          "output_type": "stream",
          "text": [
            "0:\tlearn: 6.8188888\ttest: 6.4445104\tbest: 6.4445104 (0)\ttotal: 69ms\tremaining: 1m 8s\n",
            "50:\tlearn: 6.6377486\ttest: 6.2908028\tbest: 6.2908028 (50)\ttotal: 476ms\tremaining: 8.86s\n",
            "100:\tlearn: 6.5827872\ttest: 6.2656556\tbest: 6.2656556 (100)\ttotal: 876ms\tremaining: 7.8s\n",
            "150:\tlearn: 6.5286270\ttest: 6.2503498\tbest: 6.2474250 (130)\ttotal: 1.55s\tremaining: 8.73s\n",
            "Stopped by overfitting detector  (45 iterations wait)\n",
            "\n",
            "bestTest = 6.247425028\n",
            "bestIteration = 130\n",
            "\n",
            "Shrink model to first 131 iterations.\n",
            "0:\tlearn: 6.1634591\ttest: 8.6910318\tbest: 8.6910318 (0)\ttotal: 20.2ms\tremaining: 20.2s\n"
          ]
        },
        {
          "name": "stderr",
          "output_type": "stream",
          "text": [
            "Warning: Overfitting detector is active, thus evaluation metric is calculated on every iteration. 'metric_period' is ignored for evaluation metric.\n"
          ]
        },
        {
          "name": "stdout",
          "output_type": "stream",
          "text": [
            "50:\tlearn: 6.0655535\ttest: 8.6137421\tbest: 8.6135907 (46)\ttotal: 789ms\tremaining: 14.7s\n",
            "100:\tlearn: 6.0338218\ttest: 8.5658457\tbest: 8.5658457 (100)\ttotal: 1.53s\tremaining: 13.7s\n",
            "150:\tlearn: 6.0096021\ttest: 8.5407344\tbest: 8.5404026 (147)\ttotal: 2.21s\tremaining: 12.4s\n",
            "200:\tlearn: 5.9920960\ttest: 8.5328177\tbest: 8.5328177 (200)\ttotal: 2.91s\tremaining: 11.6s\n",
            "250:\tlearn: 5.9782880\ttest: 8.5229635\tbest: 8.5226932 (247)\ttotal: 3.87s\tremaining: 11.6s\n",
            "300:\tlearn: 5.9553654\ttest: 8.5018169\tbest: 8.5012469 (294)\ttotal: 5.01s\tremaining: 11.6s\n",
            "350:\tlearn: 5.9447665\ttest: 8.4981920\tbest: 8.4975318 (347)\ttotal: 5.68s\tremaining: 10.5s\n",
            "400:\tlearn: 5.9314137\ttest: 8.4828759\tbest: 8.4827643 (398)\ttotal: 6.17s\tremaining: 9.22s\n",
            "450:\tlearn: 5.9217675\ttest: 8.4805462\tbest: 8.4769358 (407)\ttotal: 6.72s\tremaining: 8.18s\n",
            "Stopped by overfitting detector  (45 iterations wait)\n",
            "\n",
            "bestTest = 8.476935769\n",
            "bestIteration = 407\n",
            "\n",
            "Shrink model to first 408 iterations.\n",
            "0:\tlearn: 6.8731578\ttest: 6.1923763\tbest: 6.1923763 (0)\ttotal: 23.4ms\tremaining: 23.4s\n"
          ]
        },
        {
          "name": "stderr",
          "output_type": "stream",
          "text": [
            "Warning: Overfitting detector is active, thus evaluation metric is calculated on every iteration. 'metric_period' is ignored for evaluation metric.\n"
          ]
        },
        {
          "name": "stdout",
          "output_type": "stream",
          "text": [
            "50:\tlearn: 6.6709165\ttest: 6.1014790\tbest: 6.0938107 (41)\ttotal: 773ms\tremaining: 14.4s\n",
            "Stopped by overfitting detector  (45 iterations wait)\n",
            "\n",
            "bestTest = 6.093810704\n",
            "bestIteration = 41\n",
            "\n",
            "Shrink model to first 42 iterations.\n",
            "0:\tlearn: 7.0161055\ttest: 5.5231686\tbest: 5.5231686 (0)\ttotal: 9.59ms\tremaining: 9.58s\n"
          ]
        },
        {
          "name": "stderr",
          "output_type": "stream",
          "text": [
            "Warning: Overfitting detector is active, thus evaluation metric is calculated on every iteration. 'metric_period' is ignored for evaluation metric.\n"
          ]
        },
        {
          "name": "stdout",
          "output_type": "stream",
          "text": [
            "50:\tlearn: 6.8554820\ttest: 5.4682927\tbest: 5.4560427 (21)\ttotal: 705ms\tremaining: 13.1s\n",
            "Stopped by overfitting detector  (45 iterations wait)\n",
            "\n",
            "bestTest = 5.456042736\n",
            "bestIteration = 21\n",
            "\n",
            "Shrink model to first 22 iterations.\n",
            "0:\tlearn: 6.8172307\ttest: 6.4430648\tbest: 6.4430648 (0)\ttotal: 23.1ms\tremaining: 23.1s\n"
          ]
        },
        {
          "name": "stderr",
          "output_type": "stream",
          "text": [
            "Warning: Overfitting detector is active, thus evaluation metric is calculated on every iteration. 'metric_period' is ignored for evaluation metric.\n"
          ]
        },
        {
          "name": "stdout",
          "output_type": "stream",
          "text": [
            "50:\tlearn: 6.6712555\ttest: 6.2119236\tbest: 6.2119236 (50)\ttotal: 827ms\tremaining: 15.4s\n",
            "100:\tlearn: 6.6332200\ttest: 6.1615890\tbest: 6.1615890 (100)\ttotal: 1.64s\tremaining: 14.6s\n",
            "150:\tlearn: 6.6134652\ttest: 6.1450442\tbest: 6.1450427 (149)\ttotal: 2.14s\tremaining: 12s\n",
            "200:\tlearn: 6.5942311\ttest: 6.1338612\tbest: 6.1317126 (188)\ttotal: 2.81s\tremaining: 11.2s\n",
            "250:\tlearn: 6.5825551\ttest: 6.1286331\tbest: 6.1277060 (240)\ttotal: 3.24s\tremaining: 9.66s\n",
            "300:\tlearn: 6.5692339\ttest: 6.1251588\tbest: 6.1239598 (282)\ttotal: 3.71s\tremaining: 8.62s\n",
            "350:\tlearn: 6.5578785\ttest: 6.1174506\tbest: 6.1172928 (348)\ttotal: 4.3s\tremaining: 7.96s\n",
            "400:\tlearn: 6.5397831\ttest: 6.1154245\tbest: 6.1093978 (355)\ttotal: 4.75s\tremaining: 7.1s\n",
            "Stopped by overfitting detector  (45 iterations wait)\n",
            "\n",
            "bestTest = 6.109397849\n",
            "bestIteration = 355\n",
            "\n",
            "Shrink model to first 356 iterations.\n"
          ]
        }
      ],
      "source": [
        "for n_fold, (trn_idx, val_idx) in enumerate(folds.split(df_cat, df_cat['운송장_건수'])) : \n",
        "    trn_x, trn_y = x_train.iloc[trn_idx], y_train.iloc[trn_idx]\n",
        "    val_x, val_y = x_train.iloc[val_idx], y_train.iloc[val_idx]\n",
        "    \n",
        "    #oof_preds_catboost = np.zeros(val_y.shape[0])\n",
        "    cb_model = CatBoostRegressor(iterations=1000,\n",
        "                                 learning_rate=0.1,\n",
        "                                 depth=4,\n",
        "                                 l2_leaf_reg=20,\n",
        "                                 bootstrap_type='Bernoulli',\n",
        "                                 subsample=0.6,\n",
        "                                 eval_metric='RMSE',\n",
        "                                 metric_period=50,\n",
        "                                 od_type='Iter',\n",
        "                                 od_wait=45,\n",
        "                                 random_seed=17,\n",
        "                                 allow_writing_files=False)\n",
        "    \n",
        "    cb_model.fit(trn_x, trn_y, eval_set=(val_x, val_y), cat_features=['물품_카테고리'], use_best_model=True, verbose=True)\n",
        "    \n",
        "    #oof_preds_catboost[val_idx] = cb_model.predict(val_x)\n",
        "    sub_preds_catboost += cb_model.predict(df_cat_test) / folds.n_splits"
      ]
    },
    {
      "cell_type": "code",
      "execution_count": null,
      "metadata": {
        "colab": {
          "base_uri": "https://localhost:8080/"
        },
        "id": "P6fh2lzaZP_2",
        "outputId": "fa58b9fc-006c-4110-aec1-304c6358c189"
      },
      "outputs": [
        {
          "data": {
            "text/plain": [
              "array([5.44373783, 5.65467802, 5.85152653, ..., 4.11285451, 4.25377107,\n",
              "       5.21755963])"
            ]
          },
          "execution_count": 31,
          "metadata": {},
          "output_type": "execute_result"
        }
      ],
      "source": [
        "sub_preds_catboost"
      ]
    },
    {
      "cell_type": "code",
      "execution_count": null,
      "metadata": {
        "colab": {
          "base_uri": "https://localhost:8080/",
          "height": 206
        },
        "id": "YgDYLgtnZRQj",
        "outputId": "ba83201b-d29c-42d8-aeb9-b6b7b6220579"
      },
      "outputs": [
        {
          "data": {
            "text/html": [
              "\n",
              "  <div id=\"df-9376f361-4fc5-4f2b-8908-d3c9492007fe\">\n",
              "    <div class=\"colab-df-container\">\n",
              "      <div>\n",
              "<style scoped>\n",
              "    .dataframe tbody tr th:only-of-type {\n",
              "        vertical-align: middle;\n",
              "    }\n",
              "\n",
              "    .dataframe tbody tr th {\n",
              "        vertical-align: top;\n",
              "    }\n",
              "\n",
              "    .dataframe thead th {\n",
              "        text-align: right;\n",
              "    }\n",
              "</style>\n",
              "<table border=\"1\" class=\"dataframe\">\n",
              "  <thead>\n",
              "    <tr style=\"text-align: right;\">\n",
              "      <th></th>\n",
              "      <th>index</th>\n",
              "      <th>운송장_건수</th>\n",
              "    </tr>\n",
              "  </thead>\n",
              "  <tbody>\n",
              "    <tr>\n",
              "      <th>0</th>\n",
              "      <td>0</td>\n",
              "      <td>0</td>\n",
              "    </tr>\n",
              "    <tr>\n",
              "      <th>1</th>\n",
              "      <td>1</td>\n",
              "      <td>0</td>\n",
              "    </tr>\n",
              "    <tr>\n",
              "      <th>2</th>\n",
              "      <td>2</td>\n",
              "      <td>0</td>\n",
              "    </tr>\n",
              "    <tr>\n",
              "      <th>3</th>\n",
              "      <td>3</td>\n",
              "      <td>0</td>\n",
              "    </tr>\n",
              "    <tr>\n",
              "      <th>4</th>\n",
              "      <td>4</td>\n",
              "      <td>0</td>\n",
              "    </tr>\n",
              "  </tbody>\n",
              "</table>\n",
              "</div>\n",
              "      <button class=\"colab-df-convert\" onclick=\"convertToInteractive('df-9376f361-4fc5-4f2b-8908-d3c9492007fe')\"\n",
              "              title=\"Convert this dataframe to an interactive table.\"\n",
              "              style=\"display:none;\">\n",
              "        \n",
              "  <svg xmlns=\"http://www.w3.org/2000/svg\" height=\"24px\"viewBox=\"0 0 24 24\"\n",
              "       width=\"24px\">\n",
              "    <path d=\"M0 0h24v24H0V0z\" fill=\"none\"/>\n",
              "    <path d=\"M18.56 5.44l.94 2.06.94-2.06 2.06-.94-2.06-.94-.94-2.06-.94 2.06-2.06.94zm-11 1L8.5 8.5l.94-2.06 2.06-.94-2.06-.94L8.5 2.5l-.94 2.06-2.06.94zm10 10l.94 2.06.94-2.06 2.06-.94-2.06-.94-.94-2.06-.94 2.06-2.06.94z\"/><path d=\"M17.41 7.96l-1.37-1.37c-.4-.4-.92-.59-1.43-.59-.52 0-1.04.2-1.43.59L10.3 9.45l-7.72 7.72c-.78.78-.78 2.05 0 2.83L4 21.41c.39.39.9.59 1.41.59.51 0 1.02-.2 1.41-.59l7.78-7.78 2.81-2.81c.8-.78.8-2.07 0-2.86zM5.41 20L4 18.59l7.72-7.72 1.47 1.35L5.41 20z\"/>\n",
              "  </svg>\n",
              "      </button>\n",
              "      \n",
              "  <style>\n",
              "    .colab-df-container {\n",
              "      display:flex;\n",
              "      flex-wrap:wrap;\n",
              "      gap: 12px;\n",
              "    }\n",
              "\n",
              "    .colab-df-convert {\n",
              "      background-color: #E8F0FE;\n",
              "      border: none;\n",
              "      border-radius: 50%;\n",
              "      cursor: pointer;\n",
              "      display: none;\n",
              "      fill: #1967D2;\n",
              "      height: 32px;\n",
              "      padding: 0 0 0 0;\n",
              "      width: 32px;\n",
              "    }\n",
              "\n",
              "    .colab-df-convert:hover {\n",
              "      background-color: #E2EBFA;\n",
              "      box-shadow: 0px 1px 2px rgba(60, 64, 67, 0.3), 0px 1px 3px 1px rgba(60, 64, 67, 0.15);\n",
              "      fill: #174EA6;\n",
              "    }\n",
              "\n",
              "    [theme=dark] .colab-df-convert {\n",
              "      background-color: #3B4455;\n",
              "      fill: #D2E3FC;\n",
              "    }\n",
              "\n",
              "    [theme=dark] .colab-df-convert:hover {\n",
              "      background-color: #434B5C;\n",
              "      box-shadow: 0px 1px 3px 1px rgba(0, 0, 0, 0.15);\n",
              "      filter: drop-shadow(0px 1px 2px rgba(0, 0, 0, 0.3));\n",
              "      fill: #FFFFFF;\n",
              "    }\n",
              "  </style>\n",
              "\n",
              "      <script>\n",
              "        const buttonEl =\n",
              "          document.querySelector('#df-9376f361-4fc5-4f2b-8908-d3c9492007fe button.colab-df-convert');\n",
              "        buttonEl.style.display =\n",
              "          google.colab.kernel.accessAllowed ? 'block' : 'none';\n",
              "\n",
              "        async function convertToInteractive(key) {\n",
              "          const element = document.querySelector('#df-9376f361-4fc5-4f2b-8908-d3c9492007fe');\n",
              "          const dataTable =\n",
              "            await google.colab.kernel.invokeFunction('convertToInteractive',\n",
              "                                                     [key], {});\n",
              "          if (!dataTable) return;\n",
              "\n",
              "          const docLinkHtml = 'Like what you see? Visit the ' +\n",
              "            '<a target=\"_blank\" href=https://colab.research.google.com/notebooks/data_table.ipynb>data table notebook</a>'\n",
              "            + ' to learn more about interactive tables.';\n",
              "          element.innerHTML = '';\n",
              "          dataTable['output_type'] = 'display_data';\n",
              "          await google.colab.output.renderOutput(dataTable, element);\n",
              "          const docLink = document.createElement('div');\n",
              "          docLink.innerHTML = docLinkHtml;\n",
              "          element.appendChild(docLink);\n",
              "        }\n",
              "      </script>\n",
              "    </div>\n",
              "  </div>\n",
              "  "
            ],
            "text/plain": [
              "   index  운송장_건수\n",
              "0      0       0\n",
              "1      1       0\n",
              "2      2       0\n",
              "3      3       0\n",
              "4      4       0"
            ]
          },
          "execution_count": 32,
          "metadata": {},
          "output_type": "execute_result"
        }
      ],
      "source": [
        "submission=pd.read_csv('/content/drive/MyDrive/DACON/물류 유통량 예측 경진대회/sample_submission.csv')\n",
        "submission.head()"
      ]
    },
    {
      "cell_type": "code",
      "execution_count": null,
      "metadata": {
        "colab": {
          "base_uri": "https://localhost:8080/",
          "height": 206
        },
        "id": "BSfqiRd2ZY8m",
        "outputId": "cccc1976-ff5d-4e42-bc39-258ca0b5f190"
      },
      "outputs": [
        {
          "data": {
            "text/html": [
              "\n",
              "  <div id=\"df-0742c3eb-26be-4662-be8f-bf425afc9e98\">\n",
              "    <div class=\"colab-df-container\">\n",
              "      <div>\n",
              "<style scoped>\n",
              "    .dataframe tbody tr th:only-of-type {\n",
              "        vertical-align: middle;\n",
              "    }\n",
              "\n",
              "    .dataframe tbody tr th {\n",
              "        vertical-align: top;\n",
              "    }\n",
              "\n",
              "    .dataframe thead th {\n",
              "        text-align: right;\n",
              "    }\n",
              "</style>\n",
              "<table border=\"1\" class=\"dataframe\">\n",
              "  <thead>\n",
              "    <tr style=\"text-align: right;\">\n",
              "      <th></th>\n",
              "      <th>index</th>\n",
              "      <th>운송장_건수</th>\n",
              "    </tr>\n",
              "  </thead>\n",
              "  <tbody>\n",
              "    <tr>\n",
              "      <th>0</th>\n",
              "      <td>0</td>\n",
              "      <td>5.443738</td>\n",
              "    </tr>\n",
              "    <tr>\n",
              "      <th>1</th>\n",
              "      <td>1</td>\n",
              "      <td>5.654678</td>\n",
              "    </tr>\n",
              "    <tr>\n",
              "      <th>2</th>\n",
              "      <td>2</td>\n",
              "      <td>5.851527</td>\n",
              "    </tr>\n",
              "    <tr>\n",
              "      <th>3</th>\n",
              "      <td>3</td>\n",
              "      <td>5.454960</td>\n",
              "    </tr>\n",
              "    <tr>\n",
              "      <th>4</th>\n",
              "      <td>4</td>\n",
              "      <td>4.521766</td>\n",
              "    </tr>\n",
              "  </tbody>\n",
              "</table>\n",
              "</div>\n",
              "      <button class=\"colab-df-convert\" onclick=\"convertToInteractive('df-0742c3eb-26be-4662-be8f-bf425afc9e98')\"\n",
              "              title=\"Convert this dataframe to an interactive table.\"\n",
              "              style=\"display:none;\">\n",
              "        \n",
              "  <svg xmlns=\"http://www.w3.org/2000/svg\" height=\"24px\"viewBox=\"0 0 24 24\"\n",
              "       width=\"24px\">\n",
              "    <path d=\"M0 0h24v24H0V0z\" fill=\"none\"/>\n",
              "    <path d=\"M18.56 5.44l.94 2.06.94-2.06 2.06-.94-2.06-.94-.94-2.06-.94 2.06-2.06.94zm-11 1L8.5 8.5l.94-2.06 2.06-.94-2.06-.94L8.5 2.5l-.94 2.06-2.06.94zm10 10l.94 2.06.94-2.06 2.06-.94-2.06-.94-.94-2.06-.94 2.06-2.06.94z\"/><path d=\"M17.41 7.96l-1.37-1.37c-.4-.4-.92-.59-1.43-.59-.52 0-1.04.2-1.43.59L10.3 9.45l-7.72 7.72c-.78.78-.78 2.05 0 2.83L4 21.41c.39.39.9.59 1.41.59.51 0 1.02-.2 1.41-.59l7.78-7.78 2.81-2.81c.8-.78.8-2.07 0-2.86zM5.41 20L4 18.59l7.72-7.72 1.47 1.35L5.41 20z\"/>\n",
              "  </svg>\n",
              "      </button>\n",
              "      \n",
              "  <style>\n",
              "    .colab-df-container {\n",
              "      display:flex;\n",
              "      flex-wrap:wrap;\n",
              "      gap: 12px;\n",
              "    }\n",
              "\n",
              "    .colab-df-convert {\n",
              "      background-color: #E8F0FE;\n",
              "      border: none;\n",
              "      border-radius: 50%;\n",
              "      cursor: pointer;\n",
              "      display: none;\n",
              "      fill: #1967D2;\n",
              "      height: 32px;\n",
              "      padding: 0 0 0 0;\n",
              "      width: 32px;\n",
              "    }\n",
              "\n",
              "    .colab-df-convert:hover {\n",
              "      background-color: #E2EBFA;\n",
              "      box-shadow: 0px 1px 2px rgba(60, 64, 67, 0.3), 0px 1px 3px 1px rgba(60, 64, 67, 0.15);\n",
              "      fill: #174EA6;\n",
              "    }\n",
              "\n",
              "    [theme=dark] .colab-df-convert {\n",
              "      background-color: #3B4455;\n",
              "      fill: #D2E3FC;\n",
              "    }\n",
              "\n",
              "    [theme=dark] .colab-df-convert:hover {\n",
              "      background-color: #434B5C;\n",
              "      box-shadow: 0px 1px 3px 1px rgba(0, 0, 0, 0.15);\n",
              "      filter: drop-shadow(0px 1px 2px rgba(0, 0, 0, 0.3));\n",
              "      fill: #FFFFFF;\n",
              "    }\n",
              "  </style>\n",
              "\n",
              "      <script>\n",
              "        const buttonEl =\n",
              "          document.querySelector('#df-0742c3eb-26be-4662-be8f-bf425afc9e98 button.colab-df-convert');\n",
              "        buttonEl.style.display =\n",
              "          google.colab.kernel.accessAllowed ? 'block' : 'none';\n",
              "\n",
              "        async function convertToInteractive(key) {\n",
              "          const element = document.querySelector('#df-0742c3eb-26be-4662-be8f-bf425afc9e98');\n",
              "          const dataTable =\n",
              "            await google.colab.kernel.invokeFunction('convertToInteractive',\n",
              "                                                     [key], {});\n",
              "          if (!dataTable) return;\n",
              "\n",
              "          const docLinkHtml = 'Like what you see? Visit the ' +\n",
              "            '<a target=\"_blank\" href=https://colab.research.google.com/notebooks/data_table.ipynb>data table notebook</a>'\n",
              "            + ' to learn more about interactive tables.';\n",
              "          element.innerHTML = '';\n",
              "          dataTable['output_type'] = 'display_data';\n",
              "          await google.colab.output.renderOutput(dataTable, element);\n",
              "          const docLink = document.createElement('div');\n",
              "          docLink.innerHTML = docLinkHtml;\n",
              "          element.appendChild(docLink);\n",
              "        }\n",
              "      </script>\n",
              "    </div>\n",
              "  </div>\n",
              "  "
            ],
            "text/plain": [
              "   index    운송장_건수\n",
              "0      0  5.443738\n",
              "1      1  5.654678\n",
              "2      2  5.851527\n",
              "3      3  5.454960\n",
              "4      4  4.521766"
            ]
          },
          "execution_count": 33,
          "metadata": {},
          "output_type": "execute_result"
        }
      ],
      "source": [
        "submission['운송장_건수']=sub_preds_catboost\n",
        "submission.head()"
      ]
    },
    {
      "cell_type": "markdown",
      "metadata": {
        "id": "8rmT-b-4MuOO"
      },
      "source": [
        "# 정답 파일 생성"
      ]
    },
    {
      "cell_type": "code",
      "execution_count": null,
      "metadata": {
        "id": "XOT_hheiZawX"
      },
      "outputs": [],
      "source": [
        "submission.to_csv('/content/drive/MyDrive/DACON/물류 유통량 예측 경진대회/catboost.csv', index=False)"
      ]
    }
  ],
  "metadata": {
    "colab": {
      "provenance": []
    },
    "kernelspec": {
      "display_name": "Python 3",
      "language": "python",
      "name": "python3"
    },
    "language_info": {
      "name": "python",
      "version": "3.7.3 (default, Oct 31 2022, 14:04:00) \n[GCC 8.3.0]"
    },
    "vscode": {
      "interpreter": {
        "hash": "916dbcbb3f70747c44a77c7bcd40155683ae19c65e1c03b4aa3499c5328201f1"
      }
    }
  },
  "nbformat": 4,
  "nbformat_minor": 0
}
